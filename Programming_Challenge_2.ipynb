{
  "nbformat": 4,
  "nbformat_minor": 0,
  "metadata": {
    "colab": {
      "name": "Programming Challenge #2.ipynb",
      "provenance": [],
      "authorship_tag": "ABX9TyNvuO3JNOG5M87RrWaPrbua",
      "include_colab_link": true
    },
    "kernelspec": {
      "name": "python3",
      "display_name": "Python 3"
    }
  },
  "cells": [
    {
      "cell_type": "markdown",
      "metadata": {
        "id": "view-in-github",
        "colab_type": "text"
      },
      "source": [
        "<a href=\"https://colab.research.google.com/github/Henry-Medeiros/eece4520-programming-challenge-2/blob/main/Programming_Challenge_2.ipynb\" target=\"_parent\"><img src=\"https://colab.research.google.com/assets/colab-badge.svg\" alt=\"Open In Colab\"/></a>"
      ]
    },
    {
      "cell_type": "code",
      "metadata": {
        "id": "KQMOawMw7Y9K"
      },
      "source": [
        "#The image below has been distorted by a geometric transformation and corrupted by high-frequency periodic noise.\n",
        "import cv2\n",
        "import matplotlib.pyplot as plt\n",
        "\n",
        "!wget \"https://github.com/Henry-Medeiros/images/raw/master/img_dist_pc2.png\"\n",
        "img = cv2.imread('img_dist_pc2.png')\n",
        "img = cv2.cvtColor(img, cv2.COLOR_BGR2GRAY) #Necessary to have only one channel\n",
        "plt.imshow(img, 'gray')\n",
        "plt.show()"
      ],
      "execution_count": null,
      "outputs": []
    },
    {
      "cell_type": "code",
      "metadata": {
        "id": "XjIWsaTv7mA6"
      },
      "source": [
        "#1. Identify and remove the geometric distortion."
      ],
      "execution_count": null,
      "outputs": []
    },
    {
      "cell_type": "code",
      "metadata": {
        "id": "59nr2qHB7pEj"
      },
      "source": [
        "#2. Identify the frequency of the periodic noise and design an appropriate low-pass filter to remove it."
      ],
      "execution_count": null,
      "outputs": []
    },
    {
      "cell_type": "code",
      "metadata": {
        "id": "yDaA5_fy7t4Z"
      },
      "source": [
        "#3. Binarize the image to segment the text from the background."
      ],
      "execution_count": null,
      "outputs": []
    }
  ]
}